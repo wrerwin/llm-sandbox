{
 "cells": [
  {
   "cell_type": "code",
   "execution_count": null,
   "metadata": {},
   "outputs": [],
   "source": [
    "import openai\n",
    "import os"
   ]
  },
  {
   "cell_type": "code",
   "execution_count": null,
   "metadata": {},
   "outputs": [],
   "source": [
    "OPENAI_API_KEY = os.environ['OPENAI_API_KEY']\n",
    "\n",
    "# Initialize the OpenAI API client\n",
    "openai.api_key = OPENAI_API_KEY"
   ]
  },
  {
   "cell_type": "code",
   "execution_count": 29,
   "metadata": {},
   "outputs": [],
   "source": [
    "def simple_query(system_prompt:str,\n",
    "                user_prompt:str,\n",
    "                model:str,\n",
    "                ):\n",
    "    completion = openai.ChatCompletion.create(\n",
    "                                                model = model,\n",
    "                                                messages = [\n",
    "                                                    {\"role\": \"system\",\"content\":system_prompt},\n",
    "                                                    {\"role\": \"user\",\"content\":user_prompt}, \n",
    "                                                ]\n",
    "                                            )\n",
    "    message = completion.choices[0].message[\"content\"]\n",
    "    return message\n"
   ]
  },
  {
   "cell_type": "code",
   "execution_count": 32,
   "metadata": {},
   "outputs": [
    {
     "name": "stdout",
     "output_type": "stream",
     "text": [
      "Hello! How can I assist you today?\n"
     ]
    }
   ],
   "source": [
    "SYSTEM_PROMPT = '''\n",
    "You are a bot meant to return a 'hello world' response.\n",
    "'''\n",
    "\n",
    "USER_PROMPT = \"Hello program\"\n",
    "\n",
    "MODEL = 'gpt-3.5-turbo'\n",
    "\n",
    "message = simple_query(system_prompt = SYSTEM_PROMPT,\n",
    "                       user_prompt = USER_PROMPT,\n",
    "                       model = MODEL\n",
    "                    )\n",
    "\n",
    "print(message)"
   ]
  },
  {
   "cell_type": "code",
   "execution_count": null,
   "metadata": {},
   "outputs": [],
   "source": []
  }
 ],
 "metadata": {
  "kernelspec": {
   "display_name": "chatgpt",
   "language": "python",
   "name": "chatgpt"
  },
  "language_info": {
   "codemirror_mode": {
    "name": "ipython",
    "version": 3
   },
   "file_extension": ".py",
   "mimetype": "text/x-python",
   "name": "python",
   "nbconvert_exporter": "python",
   "pygments_lexer": "ipython3",
   "version": "3.10.9"
  }
 },
 "nbformat": 4,
 "nbformat_minor": 2
}
